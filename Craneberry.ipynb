{
 "cells": [
  {
   "cell_type": "code",
   "execution_count": 1,
   "metadata": {},
   "outputs": [],
   "source": [
    "import numpy as np\n",
    "import pandas as pd\n",
    "import matplotlib.pyplot as plt\n",
    "import seaborn as sns\n",
    "import matplotlib.dates as mdates\n",
    "import plotly.express as px\n",
    "import plotly.graph_objects as go\n",
    "import scipy\n",
    "import random"
   ]
  },
  {
   "cell_type": "code",
   "execution_count": 8,
   "metadata": {},
   "outputs": [
    {
     "data": {
      "text/html": [
       "<div>\n",
       "<style scoped>\n",
       "    .dataframe tbody tr th:only-of-type {\n",
       "        vertical-align: middle;\n",
       "    }\n",
       "\n",
       "    .dataframe tbody tr th {\n",
       "        vertical-align: top;\n",
       "    }\n",
       "\n",
       "    .dataframe thead th {\n",
       "        text-align: right;\n",
       "    }\n",
       "</style>\n",
       "<table border=\"1\" class=\"dataframe\">\n",
       "  <thead>\n",
       "    <tr style=\"text-align: right;\">\n",
       "      <th></th>\n",
       "      <th>Year</th>\n",
       "      <th>Quarter</th>\n",
       "      <th>Units</th>\n",
       "      <th>Competitor Price</th>\n",
       "      <th>My Price</th>\n",
       "      <th>Higher or Lower?</th>\n",
       "    </tr>\n",
       "  </thead>\n",
       "  <tbody>\n",
       "    <tr>\n",
       "      <th>0</th>\n",
       "      <td>2006</td>\n",
       "      <td>1</td>\n",
       "      <td>453.404117</td>\n",
       "      <td>4.05</td>\n",
       "      <td>4.74</td>\n",
       "      <td>Us Higher</td>\n",
       "    </tr>\n",
       "    <tr>\n",
       "      <th>1</th>\n",
       "      <td>2006</td>\n",
       "      <td>2</td>\n",
       "      <td>454.851271</td>\n",
       "      <td>4.81</td>\n",
       "      <td>5.28</td>\n",
       "      <td>Us Higher</td>\n",
       "    </tr>\n",
       "    <tr>\n",
       "      <th>2</th>\n",
       "      <td>2006</td>\n",
       "      <td>3</td>\n",
       "      <td>523.983631</td>\n",
       "      <td>5.42</td>\n",
       "      <td>4.43</td>\n",
       "      <td>Us Lower</td>\n",
       "    </tr>\n",
       "    <tr>\n",
       "      <th>3</th>\n",
       "      <td>2006</td>\n",
       "      <td>4</td>\n",
       "      <td>578.701878</td>\n",
       "      <td>4.31</td>\n",
       "      <td>5.02</td>\n",
       "      <td>Us Higher</td>\n",
       "    </tr>\n",
       "    <tr>\n",
       "      <th>4</th>\n",
       "      <td>2007</td>\n",
       "      <td>1</td>\n",
       "      <td>608.559115</td>\n",
       "      <td>4.71</td>\n",
       "      <td>4.11</td>\n",
       "      <td>Us Lower</td>\n",
       "    </tr>\n",
       "    <tr>\n",
       "      <th>5</th>\n",
       "      <td>2007</td>\n",
       "      <td>2</td>\n",
       "      <td>577.593826</td>\n",
       "      <td>4.88</td>\n",
       "      <td>4.52</td>\n",
       "      <td>Us Lower</td>\n",
       "    </tr>\n",
       "    <tr>\n",
       "      <th>6</th>\n",
       "      <td>2007</td>\n",
       "      <td>3</td>\n",
       "      <td>571.899966</td>\n",
       "      <td>5.81</td>\n",
       "      <td>4.41</td>\n",
       "      <td>Us Lower</td>\n",
       "    </tr>\n",
       "    <tr>\n",
       "      <th>7</th>\n",
       "      <td>2007</td>\n",
       "      <td>4</td>\n",
       "      <td>660.055615</td>\n",
       "      <td>4.14</td>\n",
       "      <td>4.87</td>\n",
       "      <td>Us Higher</td>\n",
       "    </tr>\n",
       "    <tr>\n",
       "      <th>8</th>\n",
       "      <td>2008</td>\n",
       "      <td>1</td>\n",
       "      <td>443.501050</td>\n",
       "      <td>4.58</td>\n",
       "      <td>5.30</td>\n",
       "      <td>Us Higher</td>\n",
       "    </tr>\n",
       "    <tr>\n",
       "      <th>9</th>\n",
       "      <td>2008</td>\n",
       "      <td>2</td>\n",
       "      <td>390.666789</td>\n",
       "      <td>4.20</td>\n",
       "      <td>5.07</td>\n",
       "      <td>Us Higher</td>\n",
       "    </tr>\n",
       "    <tr>\n",
       "      <th>10</th>\n",
       "      <td>2008</td>\n",
       "      <td>3</td>\n",
       "      <td>429.606428</td>\n",
       "      <td>4.24</td>\n",
       "      <td>5.14</td>\n",
       "      <td>Us Higher</td>\n",
       "    </tr>\n",
       "    <tr>\n",
       "      <th>11</th>\n",
       "      <td>2008</td>\n",
       "      <td>4</td>\n",
       "      <td>788.322375</td>\n",
       "      <td>5.89</td>\n",
       "      <td>4.66</td>\n",
       "      <td>Us Lower</td>\n",
       "    </tr>\n",
       "    <tr>\n",
       "      <th>12</th>\n",
       "      <td>2009</td>\n",
       "      <td>1</td>\n",
       "      <td>581.585045</td>\n",
       "      <td>5.20</td>\n",
       "      <td>4.52</td>\n",
       "      <td>Us Lower</td>\n",
       "    </tr>\n",
       "    <tr>\n",
       "      <th>13</th>\n",
       "      <td>2009</td>\n",
       "      <td>2</td>\n",
       "      <td>503.916599</td>\n",
       "      <td>5.00</td>\n",
       "      <td>4.86</td>\n",
       "      <td>Us Lower</td>\n",
       "    </tr>\n",
       "    <tr>\n",
       "      <th>14</th>\n",
       "      <td>2009</td>\n",
       "      <td>3</td>\n",
       "      <td>499.770549</td>\n",
       "      <td>4.50</td>\n",
       "      <td>4.63</td>\n",
       "      <td>Us Higher</td>\n",
       "    </tr>\n",
       "    <tr>\n",
       "      <th>15</th>\n",
       "      <td>2009</td>\n",
       "      <td>4</td>\n",
       "      <td>936.186667</td>\n",
       "      <td>5.05</td>\n",
       "      <td>4.25</td>\n",
       "      <td>Us Lower</td>\n",
       "    </tr>\n",
       "    <tr>\n",
       "      <th>16</th>\n",
       "      <td>2010</td>\n",
       "      <td>1</td>\n",
       "      <td>459.482171</td>\n",
       "      <td>5.42</td>\n",
       "      <td>4.94</td>\n",
       "      <td>Us Lower</td>\n",
       "    </tr>\n",
       "    <tr>\n",
       "      <th>17</th>\n",
       "      <td>2010</td>\n",
       "      <td>2</td>\n",
       "      <td>470.637988</td>\n",
       "      <td>4.57</td>\n",
       "      <td>4.58</td>\n",
       "      <td>Us Higher</td>\n",
       "    </tr>\n",
       "    <tr>\n",
       "      <th>18</th>\n",
       "      <td>2010</td>\n",
       "      <td>3</td>\n",
       "      <td>349.487841</td>\n",
       "      <td>5.06</td>\n",
       "      <td>5.78</td>\n",
       "      <td>Us Higher</td>\n",
       "    </tr>\n",
       "    <tr>\n",
       "      <th>19</th>\n",
       "      <td>2010</td>\n",
       "      <td>4</td>\n",
       "      <td>912.536733</td>\n",
       "      <td>5.28</td>\n",
       "      <td>4.16</td>\n",
       "      <td>Us Lower</td>\n",
       "    </tr>\n",
       "    <tr>\n",
       "      <th>20</th>\n",
       "      <td>2011</td>\n",
       "      <td>1</td>\n",
       "      <td>400.361101</td>\n",
       "      <td>4.93</td>\n",
       "      <td>5.50</td>\n",
       "      <td>Us Higher</td>\n",
       "    </tr>\n",
       "    <tr>\n",
       "      <th>21</th>\n",
       "      <td>2011</td>\n",
       "      <td>2</td>\n",
       "      <td>528.476756</td>\n",
       "      <td>4.34</td>\n",
       "      <td>4.33</td>\n",
       "      <td>Us Lower</td>\n",
       "    </tr>\n",
       "    <tr>\n",
       "      <th>22</th>\n",
       "      <td>2011</td>\n",
       "      <td>3</td>\n",
       "      <td>605.843779</td>\n",
       "      <td>5.23</td>\n",
       "      <td>4.46</td>\n",
       "      <td>Us Lower</td>\n",
       "    </tr>\n",
       "    <tr>\n",
       "      <th>23</th>\n",
       "      <td>2011</td>\n",
       "      <td>4</td>\n",
       "      <td>574.532595</td>\n",
       "      <td>5.62</td>\n",
       "      <td>5.53</td>\n",
       "      <td>Us Lower</td>\n",
       "    </tr>\n",
       "  </tbody>\n",
       "</table>\n",
       "</div>"
      ],
      "text/plain": [
       "    Year  Quarter       Units  Competitor Price  My Price Higher or Lower?\n",
       "0   2006        1  453.404117              4.05      4.74        Us Higher\n",
       "1   2006        2  454.851271              4.81      5.28        Us Higher\n",
       "2   2006        3  523.983631              5.42      4.43         Us Lower\n",
       "3   2006        4  578.701878              4.31      5.02        Us Higher\n",
       "4   2007        1  608.559115              4.71      4.11         Us Lower\n",
       "5   2007        2  577.593826              4.88      4.52         Us Lower\n",
       "6   2007        3  571.899966              5.81      4.41         Us Lower\n",
       "7   2007        4  660.055615              4.14      4.87        Us Higher\n",
       "8   2008        1  443.501050              4.58      5.30        Us Higher\n",
       "9   2008        2  390.666789              4.20      5.07        Us Higher\n",
       "10  2008        3  429.606428              4.24      5.14        Us Higher\n",
       "11  2008        4  788.322375              5.89      4.66         Us Lower\n",
       "12  2009        1  581.585045              5.20      4.52         Us Lower\n",
       "13  2009        2  503.916599              5.00      4.86         Us Lower\n",
       "14  2009        3  499.770549              4.50      4.63        Us Higher\n",
       "15  2009        4  936.186667              5.05      4.25         Us Lower\n",
       "16  2010        1  459.482171              5.42      4.94         Us Lower\n",
       "17  2010        2  470.637988              4.57      4.58        Us Higher\n",
       "18  2010        3  349.487841              5.06      5.78        Us Higher\n",
       "19  2010        4  912.536733              5.28      4.16         Us Lower\n",
       "20  2011        1  400.361101              4.93      5.50        Us Higher\n",
       "21  2011        2  528.476756              4.34      4.33         Us Lower\n",
       "22  2011        3  605.843779              5.23      4.46         Us Lower\n",
       "23  2011        4  574.532595              5.62      5.53         Us Lower"
      ]
     },
     "execution_count": 8,
     "metadata": {},
     "output_type": "execute_result"
    }
   ],
   "source": [
    "df = pd.read_excel('craneberry data.xlsx')\n",
    "df"
   ]
  },
  {
   "cell_type": "code",
   "execution_count": 30,
   "metadata": {},
   "outputs": [
    {
     "data": {
      "text/plain": [
       "<matplotlib.axes._subplots.AxesSubplot at 0x1b3e6c18be0>"
      ]
     },
     "execution_count": 30,
     "metadata": {},
     "output_type": "execute_result"
    },
    {
     "data": {
      "image/png": "[encoded data removed]",
      "text/plain": [
       "<Figure size 720x360 with 1 Axes>"
      ]
     },
     "metadata": {
      "needs_background": "light"
     },
     "output_type": "display_data"
    }
   ],
   "source": [
    "#  Question: Ignoring price, create a chart that displays the seasonality of cranberry sales.\n",
    "plt.figure(figsize=(10,5))\n",
    "s = sns.barplot(df['Quarter'],df['Units'])\n",
    "s\n",
    "\n"
   ]
  },
  {
   "cell_type": "code",
   "execution_count": 4,
   "metadata": {},
   "outputs": [
    {
     "data": {
      "text/plain": [
       "Year\n",
       "2006    2010.940896\n",
       "2007    2418.108521\n",
       "2008    2052.096642\n",
       "2009    2521.458861\n",
       "2010    2192.144732\n",
       "2011    2109.214232\n",
       "Name: Units, dtype: float64"
      ]
     },
     "execution_count": 4,
     "metadata": {},
     "output_type": "execute_result"
    }
   ],
   "source": [
    "g = df.groupby('Year')['Units'].sum()\n",
    "g"
   ]
  },
  {
   "cell_type": "code",
   "execution_count": 7,
   "metadata": {},
   "outputs": [
    {
     "ename": "TypeError",
     "evalue": "lineplot() got multiple values for argument 'x'",
     "output_type": "error",
     "traceback": [
      "\u001b[1;31m---------------------------------------------------------------------------\u001b[0m",
      "\u001b[1;31mTypeError\u001b[0m                                 Traceback (most recent call last)",
      "\u001b[1;32m<ipython-input-7-c73894ada49c>\u001b[0m in \u001b[0;36m<module>\u001b[1;34m\u001b[0m\n\u001b[1;32m----> 1\u001b[1;33m \u001b[0msns\u001b[0m\u001b[1;33m.\u001b[0m\u001b[0mlineplot\u001b[0m\u001b[1;33m(\u001b[0m\u001b[0mg\u001b[0m\u001b[1;33m,\u001b[0m \u001b[0mx\u001b[0m\u001b[1;33m=\u001b[0m\u001b[1;34m'Year'\u001b[0m\u001b[1;33m)\u001b[0m\u001b[1;33m\u001b[0m\u001b[1;33m\u001b[0m\u001b[0m\n\u001b[0m",
      "\u001b[1;31mTypeError\u001b[0m: lineplot() got multiple values for argument 'x'"
     ]
    }
   ],
   "source": [
    "sns.lineplot(g, x='Year')"
   ]
  },
  {
   "cell_type": "code",
   "execution_count": null,
   "metadata": {},
   "outputs": [],
   "source": []
  },
  {
   "cell_type": "code",
   "execution_count": null,
   "metadata": {},
   "outputs": [],
   "source": []
  },
  {
   "cell_type": "code",
   "execution_count": null,
   "metadata": {},
   "outputs": [],
   "source": []
  },
  {
   "cell_type": "code",
   "execution_count": null,
   "metadata": {},
   "outputs": [],
   "source": []
  },
  {
   "cell_type": "code",
   "execution_count": null,
   "metadata": {},
   "outputs": [],
   "source": []
  },
  {
   "cell_type": "code",
   "execution_count": null,
   "metadata": {},
   "outputs": [],
   "source": []
  },
  {
   "cell_type": "code",
   "execution_count": null,
   "metadata": {},
   "outputs": [],
   "source": []
  },
  {
   "cell_type": "code",
   "execution_count": null,
   "metadata": {},
   "outputs": [],
   "source": []
  },
  {
   "cell_type": "code",
   "execution_count": null,
   "metadata": {},
   "outputs": [],
   "source": []
  },
  {
   "cell_type": "code",
   "execution_count": null,
   "metadata": {},
   "outputs": [],
   "source": []
  },
  {
   "cell_type": "code",
   "execution_count": null,
   "metadata": {},
   "outputs": [],
   "source": []
  },
  {
   "cell_type": "code",
   "execution_count": null,
   "metadata": {},
   "outputs": [],
   "source": []
  },
  {
   "cell_type": "code",
   "execution_count": null,
   "metadata": {},
   "outputs": [],
   "source": []
  },
  {
   "cell_type": "code",
   "execution_count": null,
   "metadata": {},
   "outputs": [],
   "source": []
  },
  {
   "cell_type": "code",
   "execution_count": null,
   "metadata": {},
   "outputs": [],
   "source": [
    " "
   ]
  },
  {
   "cell_type": "code",
   "execution_count": null,
   "metadata": {},
   "outputs": [],
   "source": []
  },
  {
   "cell_type": "code",
   "execution_count": null,
   "metadata": {},
   "outputs": [],
   "source": []
  }
 ],
 "metadata": {
  "kernelspec": {
   "display_name": "Python 3",
   "language": "python",
   "name": "python3"
  },
  "language_info": {
   "codemirror_mode": {
    "name": "ipython",
    "version": 3
   },
   "file_extension": ".py",
   "mimetype": "text/x-python",
   "name": "python",
   "nbconvert_exporter": "python",
   "pygments_lexer": "ipython3",
   "version": "3.7.3"
  }
 },
 "nbformat": 4,
 "nbformat_minor": 4
}
